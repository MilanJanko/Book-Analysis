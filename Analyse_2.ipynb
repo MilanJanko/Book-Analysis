{
 "cells": [
  {
   "cell_type": "markdown",
   "id": "7e41d9ce-eb5e-4367-904c-22937acbc620",
   "metadata": {},
   "source": [
    "# Load the book"
   ]
  },
  {
   "cell_type": "code",
   "execution_count": 1,
   "id": "b22bee29-f2bf-4acf-9773-44fc2478e832",
   "metadata": {},
   "outputs": [],
   "source": [
    "with open('miracle_in_the_andes.txt', 'r', encoding='utf-8') as file:\n",
    "    book = file.read()"
   ]
  },
  {
   "cell_type": "markdown",
   "id": "1e7d92ac-4568-4784-b4a9-0e6c6d926579",
   "metadata": {},
   "source": [
    "## Extract the paragraphs where 'love' word was used"
   ]
  },
  {
   "cell_type": "code",
   "execution_count": 2,
   "id": "71f99868-7c00-4ab1-9331-a81a1f12b536",
   "metadata": {},
   "outputs": [],
   "source": [
    "import re"
   ]
  },
  {
   "cell_type": "markdown",
   "id": "bf6e87a4-b256-4368-9f5f-f11637fe105a",
   "metadata": {},
   "source": [
    "### Extract all paragraphs with word 'love' in them"
   ]
  },
  {
   "cell_type": "code",
   "execution_count": 32,
   "id": "fd984ce4-93c8-4fad-91d3-d801a435591d",
   "metadata": {},
   "outputs": [
    {
     "name": "stdout",
     "output_type": "stream",
     "text": [
      "['To me, this is the essence of rugby. No other sport gives you such an intense sense of selflessness and unified purpose. I believe this is why rugby players all over the world feel such a passion for the game and such a feeling of brotherhood. As a young man, of course, I could not put these things into words, but I knew, and my teammates knew, that there was something special about the game, and under the guidance of the Christian Brothers we developed a passionate love for the sport that shaped our friendships and our lives. For eight years we played our hearts out for the Christian Brothers—a brotherhood of young boys with Latin names, playing a game with deep Anglo roots under Uruguay’s sunny skies, and proudly wearing the bright green shamrock on our uniforms. The game became so much a part of our lives, in fact, that when we graduated from Stella Maris at the age of sixteen, many of us could not bear the thought that our playing days were over. Our salvation came in the form of the Old Christians Club, a private rugby team formed in 1965 by previous alumni of the Stella Maris rugby program to give Stella Maris ruggers a chance to continue playing the game after our school years ended.', 'There were others—Alexis Hounie, Gastón Costemalle, Daniel Shaw—all of them great players and all of them my friends. But my oldest friend was Guido Magri. He and I had met on my first day at the Stella Maris School—I was eight years old and Guido was one year older—and we had been inseparable ever since. Guido and I grew up together, playing soccer and sharing a love of motorcycles, cars, and auto racing. When I was fifteen we both had mopeds that we had modified in silly ways—removing the mufflers, turn signals, and fenders—and we would ride them to Las Delicias, a famous ice cream parlor in our neighborhood, where we would drool over the girls from the nearby School Sagrado Corazón, hoping to impress them with our souped-up scooters. Guido was a dependable friend, with a good sense of humor and an easy laugh. He was also an outstanding scrum half, as quick and smart as a fox, with good hands and great courage. Under the guidance of the Christian Brothers, both of us grew to love the game of rugby with a consuming passion. As seasons passed we worked hard to improve our skills, and by the time I was fifteen we had each earned a spot on the Stella Maris First XV, the team’s starting lineup. After graduation, both of us went on to join the Old Christians and spent several happy seasons pursuing the high-octane social life of young rugby players. That rowdiness came to an abrupt end for Guido in 1969, when he met and fell in love with the beautiful daughter of a Chilean diplomat. She was now his fiancée, and he was happy to behave himself for her sake.', 'I always laughed when he talked this way, but I could not ignore the hidden streak of anger and sadness that those questions revealed. I did not judge him for this, because I knew it was all the result of a broken heart. Panchito’s parents had divorced when he was fourteen years old. It was a disaster that had wounded him in ways he could not heal and had left him with much resentment. He had two brothers, and a stepbrother from his father’s previous marriage, but still, there was something missing for him. I believe he had a great hunger for the love and comforts of a family that was happy and whole. In any case, it did not take me long to realize that despite all the natural gifts he had been blessed with, all the things I envied him for, he envied me more for the one thing I had that he could only dream of—my sisters, my grandmother, my mother and father, all of us together in a close and happy home.']\n"
     ]
    }
   ],
   "source": [
    "pattern = re.compile(\"[^\\n]+[^\\n]+\")\n",
    "find = re.findall(pattern, book)\n",
    "word = 'love'\n",
    "lista= []\n",
    "for item in find:\n",
    "    if word in item:\n",
    "        lista.append(item)\n",
    "\n",
    "print(lista[:3])"
   ]
  },
  {
   "cell_type": "markdown",
   "id": "e076e713-1529-4187-8d7e-b9d0c1a7000c",
   "metadata": {},
   "source": [
    "### Extract the chapter titles"
   ]
  },
  {
   "cell_type": "code",
   "execution_count": 37,
   "id": "5ffc26ef-78ee-43a6-a678-501409d77b1a",
   "metadata": {},
   "outputs": [
    {
     "data": {
      "text/plain": [
       "['Before',\n",
       " 'Precious',\n",
       " 'Promise',\n",
       " 'More',\n",
       " 'Abandoned',\n",
       " 'Tomb',\n",
       " 'East',\n",
       " 'Death',\n",
       " 'Man',\n",
       " 'After']"
      ]
     },
     "execution_count": 37,
     "metadata": {},
     "output_type": "execute_result"
    }
   ],
   "source": [
    "pattern = re.compile(\"([a-zA-Z]+)\\n\\n\")\n",
    "find = re.findall(pattern, book)\n",
    "find"
   ]
  },
  {
   "cell_type": "markdown",
   "id": "98c8c2ff-4ab6-4e94-88b7-1f8c1c9be629",
   "metadata": {},
   "source": [
    "### Find occurence of any word in the book"
   ]
  },
  {
   "cell_type": "code",
   "execution_count": 47,
   "id": "ef0f1ebd-d0a2-404e-8358-f8b5859edd62",
   "metadata": {},
   "outputs": [],
   "source": [
    "def find(word):\n",
    "    pattern = re.compile(\"[a-zA-Z]+\")\n",
    "    findings = re.findall(pattern, book.lower())\n",
    "    d = {}\n",
    "    for item in findings:\n",
    "        if item in d.keys():\n",
    "            d[item] = d[item] + 1\n",
    "        else:\n",
    "            d[item] = 1\n",
    "\n",
    "    try:\n",
    "        return d[word]\n",
    "    except:\n",
    "        return f\"The book does not contain word {word}.\""
   ]
  },
  {
   "cell_type": "code",
   "execution_count": 49,
   "id": "c3c3b145-482e-4c1f-8777-e4c58a73d143",
   "metadata": {},
   "outputs": [
    {
     "data": {
      "text/plain": [
       "'The book does not contain word hate.'"
      ]
     },
     "execution_count": 49,
     "metadata": {},
     "output_type": "execute_result"
    }
   ],
   "source": [
    "find('hate')"
   ]
  }
 ],
 "metadata": {
  "kernelspec": {
   "display_name": "Python 3 (ipykernel)",
   "language": "python",
   "name": "python3"
  },
  "language_info": {
   "codemirror_mode": {
    "name": "ipython",
    "version": 3
   },
   "file_extension": ".py",
   "mimetype": "text/x-python",
   "name": "python",
   "nbconvert_exporter": "python",
   "pygments_lexer": "ipython3",
   "version": "3.11.3"
  }
 },
 "nbformat": 4,
 "nbformat_minor": 5
}
